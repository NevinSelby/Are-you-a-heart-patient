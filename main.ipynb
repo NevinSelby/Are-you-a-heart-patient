{
 "cells": [
  {
   "cell_type": "code",
   "execution_count": 1,
   "metadata": {},
   "outputs": [
    {
     "name": "stderr",
     "output_type": "stream",
     "text": [
      "2022-03-19 00:47:09.252 INFO    numexpr.utils: NumExpr defaulting to 8 threads.\n",
      "D:\\Anaconda\\lib\\site-packages\\statsmodels\\tools\\_testing.py:19: FutureWarning: pandas.util.testing is deprecated. Use the functions in the public API at pandas.testing instead.\n",
      "  import pandas.util.testing as tm\n"
     ]
    }
   ],
   "source": [
    "import streamlit as st\n",
    "import numpy as np\n",
    "import pandas as pd\n",
    "import matplotlib.pyplot as plt\n",
    "import seaborn as sns\n",
    "from sklearn.preprocessing import RobustScaler\n",
    "from sklearn.model_selection import train_test_split\n",
    "from sklearn.svm import SVC\n",
    "from sklearn import metrics\n",
    "from sklearn.preprocessing import  LabelEncoder\n",
    "import pickle"
   ]
  },
  {
   "cell_type": "code",
   "execution_count": 2,
   "metadata": {},
   "outputs": [
    {
     "name": "stderr",
     "output_type": "stream",
     "text": [
      "2022-03-19 00:47:11.959 \n",
      "  \u001b[33m\u001b[1mWarning:\u001b[0m to view this Streamlit app on a browser, run it with the following\n",
      "  command:\n",
      "\n",
      "    streamlit run D:\\Anaconda\\lib\\site-packages\\ipykernel_launcher.py [ARGUMENTS]\n"
     ]
    },
    {
     "data": {
      "text/plain": [
       "''"
      ]
     },
     "execution_count": 2,
     "metadata": {},
     "output_type": "execute_result"
    }
   ],
   "source": [
    "st.header(\"Heart Disease Prediction\")\n",
    "st.text_input(\"Enter patient's name: \", key=\"name\")"
   ]
  },
  {
   "cell_type": "code",
   "execution_count": null,
   "metadata": {},
   "outputs": [],
   "source": []
  },
  {
   "cell_type": "code",
   "execution_count": 3,
   "metadata": {},
   "outputs": [],
   "source": [
    "data = pd.read_csv(r\"D:\\Python\\ArtyvisTechnologies\\heart.csv\")"
   ]
  },
  {
   "cell_type": "code",
   "execution_count": 4,
   "metadata": {},
   "outputs": [
    {
     "data": {
      "text/plain": [
       "Index(['Age', 'RestingBP', 'Cholesterol', 'MaxHR', 'Oldpeak'], dtype='object')"
      ]
     },
     "execution_count": 4,
     "metadata": {},
     "output_type": "execute_result"
    }
   ],
   "source": [
    "categorical_features = ['ChestPainType', 'ST_Slope']\n",
    "numeric_features = ['Age', 'RestingBP', 'Cholesterol', 'MaxHR', 'Oldpeak']\n",
    "eda_df = data.loc[:, numeric_features]\n",
    "eda_df.columns"
   ]
  },
  {
   "cell_type": "code",
   "execution_count": 5,
   "metadata": {},
   "outputs": [],
   "source": [
    "def one_hot_encode(df, column_dict):\n",
    "  for column, prefix in column_dict.items():\n",
    "    dummies = pd.get_dummies(df[column], prefix = prefix)\n",
    "    df = pd.concat([df, dummies], axis = 1)\n",
    "    df = df.drop(column, axis = 1)\n",
    "  return df"
   ]
  },
  {
   "cell_type": "code",
   "execution_count": 6,
   "metadata": {},
   "outputs": [],
   "source": [
    "# data = one_hot_encode(data, dict(zip(categorical_features, ['CP', 'ST'])))"
   ]
  },
  {
   "cell_type": "code",
   "execution_count": 7,
   "metadata": {},
   "outputs": [],
   "source": [
    "# data[\"Sex\"] = data.groupby(\"Sex\").ngroup()\n",
    "# #data[\"ChestPainType\"] = data.groupby(\"ChestPainType\").ngroup()\n",
    "# #data[\"ST_Slope\"] = data.groupby(\"ST_Slope\").ngroup()\n",
    "# data[\"RestingECG\"] = data.groupby(\"RestingECG\").ngroup()\n",
    "# data[\"ExerciseAngina\"] = data.groupby(\"ExerciseAngina\").ngroup()"
   ]
  },
  {
   "cell_type": "code",
   "execution_count": 8,
   "metadata": {},
   "outputs": [],
   "source": [
    "# data"
   ]
  },
  {
   "cell_type": "code",
   "execution_count": 9,
   "metadata": {},
   "outputs": [],
   "source": [
    "svm_model = pickle.load(open(r\"D:\\Python\\ArtyvisTechnologies\\svcHeart.sav\", 'rb'))"
   ]
  },
  {
   "cell_type": "code",
   "execution_count": 10,
   "metadata": {},
   "outputs": [],
   "source": [
    "if st.checkbox('Show Training Dataframe'):\n",
    "    data"
   ]
  },
  {
   "cell_type": "code",
   "execution_count": 15,
   "metadata": {},
   "outputs": [],
   "source": [
    "encoder = LabelEncoder()\n",
    "rs = pickle.load(open('rs.pkl', 'rb'))"
   ]
  },
  {
   "cell_type": "code",
   "execution_count": 16,
   "metadata": {},
   "outputs": [],
   "source": [
    "st.subheader(\"Please select relevant features of the Patient:\")\n",
    "\n",
    "\n",
    "age = st.slider('Age', 0, max(data[\"Age\"]), 1)\n",
    "\n",
    "left_column, right_column = st.columns(2)\n",
    "with left_column:\n",
    "    sex = st.radio(\n",
    "        'Sex of patient:',\n",
    "        np.unique(data['Sex']))\n",
    "    \n",
    "left_column, right_column = st.columns(2)\n",
    "with left_column:\n",
    "    chestpain = st.radio(\n",
    "        'Chest pain type:',\n",
    "        np.unique(data['ChestPainType']))\n",
    "\n",
    "restingbp = st.slider('Resting BP', 0, max(data[\"RestingBP\"]), 1)\n",
    "\n",
    "cholestrol = st.slider('Cholesterol', 0, max(data[\"Cholesterol\"]), 1)\n",
    "\n",
    "left_column, right_column = st.columns(2)\n",
    "with left_column:\n",
    "    fastingbs = st.radio(\n",
    "        'Fasting BS:',\n",
    "        np.unique(data['FastingBS']))\n",
    "    \n",
    "left_column, right_column = st.columns(2)\n",
    "with left_column:\n",
    "    restingecg = st.radio(\n",
    "        'Resting ECG:',\n",
    "        np.unique(data['RestingECG']))\n",
    "\n",
    "maxhr = st.slider('MaxHR', 0, max(data[\"MaxHR\"]), 1)\n",
    "\n",
    "left_column, right_column = st.columns(2)\n",
    "with left_column:\n",
    "    exerciseangina = st.radio(\n",
    "        'Exercise Angina:',\n",
    "        np.unique(data['ExerciseAngina']))\n",
    "    \n",
    "oldpeak = st.slider('Oldpeak', min(data['Oldpeak']), max(data[\"Oldpeak\"]), 0.0)\n",
    "\n",
    "left_column, right_column = st.columns(2)\n",
    "with left_column:\n",
    "    stslope = st.radio(\n",
    "        'ST Slope:',\n",
    "        np.unique(data['ST_Slope']))\n",
    "\n",
    "\n",
    "if st.button('Make Prediction'):\n",
    "    encoder.classes_ = np.load(r'D:\\Python\\ArtyvisTechnologies\\classes_sex.npy',allow_pickle=True)\n",
    "    sex = encoder.transform(np.expand_dims(sex, -1))\n",
    "    encoder.classes_ = np.load(r'D:\\Python\\ArtyvisTechnologies\\classes_chestpain.npy',allow_pickle=True)\n",
    "    chestpain = encoder.transform(np.expand_dims(chestpain, -1))\n",
    "    encoder.classes_ = np.load(r'D:\\Python\\ArtyvisTechnologies\\classes_fastingbs.npy',allow_pickle=True)\n",
    "    fastingbs = encoder.transform(np.expand_dims(fastingbs, -1))\n",
    "    encoder.classes_ = np.load(r'D:\\Python\\ArtyvisTechnologies\\classes_restingecg.npy',allow_pickle=True)\n",
    "    restingecg = encoder.transform(np.expand_dims(restingecg, -1))\n",
    "    encoder.classes_ = np.load(r'D:\\Python\\ArtyvisTechnologies\\classes_exerciseangina.npy',allow_pickle=True)\n",
    "    exerciseangina = encoder.transform(np.expand_dims(exerciseangina, -1))\n",
    "    encoder.classes_ = np.load(r'D:\\Python\\ArtyvisTechnologies\\classes_stslope.npy',allow_pickle=True)\n",
    "    stslope = encoder.transform(np.expand_dims(stslope, -1))\n",
    "    inputs = np.expand_dims(\n",
    "        rs.transform([age, int(sex), chestpain, restingbp, cholestrol, int(fastingbs), int(restingecg), maxhr, int(exerciseangina), int(oldpeak), stslope]), 0)\n",
    "    prediction = svm_model.predict(inputs)\n",
    "    print(\"Final pred\", np.squeeze(prediction, -1))\n",
    "    if prediction == 1:\n",
    "        k = 'safe'\n",
    "    else:\n",
    "        k = 'at risk'\n",
    "    st.write(f\"Your patient is: \" + k)\n",
    "\n",
    "    st.write(f\"Thank you {st.session_state.name}! I hope you liked it.\")"
   ]
  },
  {
   "cell_type": "code",
   "execution_count": 13,
   "metadata": {},
   "outputs": [],
   "source": [
    "# inputs = np.expand_dims([40, 1, 140, 289, 0, 1, 172, 1, 0, 1, 0, 0, 0, 1, 0, 0], 0)\n",
    "# svm_model.predict(inputs)"
   ]
  },
  {
   "cell_type": "code",
   "execution_count": null,
   "metadata": {},
   "outputs": [],
   "source": []
  }
 ],
 "metadata": {
  "kernelspec": {
   "display_name": "Python 3",
   "language": "python",
   "name": "python3"
  },
  "language_info": {
   "codemirror_mode": {
    "name": "ipython",
    "version": 3
   },
   "file_extension": ".py",
   "mimetype": "text/x-python",
   "name": "python",
   "nbconvert_exporter": "python",
   "pygments_lexer": "ipython3",
   "version": "3.7.4"
  }
 },
 "nbformat": 4,
 "nbformat_minor": 2
}
