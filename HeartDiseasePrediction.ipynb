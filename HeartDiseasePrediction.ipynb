{
 "cells": [
  {
   "cell_type": "code",
   "execution_count": 1,
   "metadata": {},
   "outputs": [],
   "source": [
    "import numpy as np\n",
    "import pandas as pd\n",
    "from sklearn.preprocessing import RobustScaler\n",
    "from sklearn.model_selection import train_test_split\n",
    "from sklearn.svm import SVC\n",
    "from sklearn import metrics\n",
    "import pickle\n",
    "from sklearn.preprocessing import  LabelEncoder"
   ]
  },
  {
   "cell_type": "code",
   "execution_count": 2,
   "metadata": {},
   "outputs": [],
   "source": [
    "def evauation_model(pred, y_val):\n",
    "  return metrics.accuracy_score(pred, y_val)"
   ]
  },
  {
   "cell_type": "code",
   "execution_count": 3,
   "metadata": {},
   "outputs": [],
   "source": [
    "def models_score(train_data, y_train, val_data, y_val):\n",
    "    reg = SVC()\n",
    "    reg.fit(train_data, y_train)\n",
    "    pred = reg.predict(val_data)\n",
    "    return metrics.accuracy_score(pred, y_val)"
   ]
  },
  {
   "cell_type": "code",
   "execution_count": 5,
   "metadata": {},
   "outputs": [
    {
     "data": {
      "text/plain": [
       "Index(['Age', 'RestingBP', 'Cholesterol', 'MaxHR', 'Oldpeak'], dtype='object')"
      ]
     },
     "execution_count": 5,
     "metadata": {},
     "output_type": "execute_result"
    }
   ],
   "source": [
    "data = pd.read_csv(r\"heart.csv\")\n",
    "categorical_features = ['ChestPainType', 'ST_Slope']\n",
    "numeric_features = ['Age', 'RestingBP', 'Cholesterol', 'MaxHR', 'Oldpeak']\n",
    "eda_df = data.loc[:, numeric_features]\n",
    "eda_df.columns"
   ]
  },
  {
   "cell_type": "code",
   "execution_count": 7,
   "metadata": {},
   "outputs": [],
   "source": [
    "# def one_hot_encode(df, column_dict):\n",
    "#   for column, prefix in column_dict.items():\n",
    "#     dummies = pd.get_dummies(df[column], prefix = prefix)\n",
    "#     df = pd.concat([df, dummies], axis = 1)\n",
    "#     df = df.drop(column, axis = 1)\n",
    "#   return df"
   ]
  },
  {
   "cell_type": "code",
   "execution_count": null,
   "metadata": {},
   "outputs": [],
   "source": []
  },
  {
   "cell_type": "code",
   "execution_count": 8,
   "metadata": {},
   "outputs": [],
   "source": [
    "# data = one_hot_encode(data, dict(zip(categorical_features, ['CP', 'ST'])))"
   ]
  },
  {
   "cell_type": "code",
   "execution_count": 9,
   "metadata": {},
   "outputs": [],
   "source": [
    "# data[\"Sex\"] = data.groupby(\"Sex\").ngroup()\n",
    "# data[\"RestingECG\"] = data.groupby(\"RestingECG\").ngroup()\n",
    "# data[\"ExerciseAngina\"] = data.groupby(\"ExerciseAngina\").ngroup()"
   ]
  },
  {
   "cell_type": "code",
   "execution_count": 10,
   "metadata": {},
   "outputs": [],
   "source": [
    "label_encoder = LabelEncoder()\n",
    "\n",
    "X = data.drop('HeartDisease', axis = 1)\n",
    "y = data['HeartDisease']"
   ]
  },
  {
   "cell_type": "code",
   "execution_count": 11,
   "metadata": {},
   "outputs": [],
   "source": [
    "X_train, X_test, y_train, y_test = train_test_split(X, y, test_size=0.3, random_state=1)"
   ]
  },
  {
   "cell_type": "code",
   "execution_count": 12,
   "metadata": {},
   "outputs": [],
   "source": [
    "X_train['Sex'] = label_encoder.fit_transform(X_train['Sex'].values)\n",
    "X_test['Sex'] = label_encoder.transform(X_test['Sex'].values)\n",
    "np.save('classes_sex.npy', label_encoder.classes_)\n",
    "\n",
    "X_train['ChestPainType'] = label_encoder.fit_transform(X_train['ChestPainType'].values)\n",
    "X_test['ChestPainType'] = label_encoder.transform(X_test['ChestPainType'].values)\n",
    "np.save('classes_chestpain.npy', label_encoder.classes_)\n",
    "\n",
    "X_train['FastingBS'] = label_encoder.fit_transform(X_train['FastingBS'].values)\n",
    "X_test['FastingBS'] = label_encoder.transform(X_test['FastingBS'].values)\n",
    "np.save('classes_fastingbs.npy', label_encoder.classes_)\n",
    "\n",
    "X_train['RestingECG'] = label_encoder.fit_transform(X_train['RestingECG'].values)\n",
    "X_test['RestingECG'] = label_encoder.transform(X_test['RestingECG'].values)\n",
    "np.save('classes_restingecg.npy', label_encoder.classes_)\n",
    "\n",
    "X_train['ExerciseAngina'] = label_encoder.fit_transform(X_train['ExerciseAngina'].values)\n",
    "X_test['ExerciseAngina'] = label_encoder.transform(X_test['ExerciseAngina'].values)\n",
    "np.save('classes_exerciseangina.npy', label_encoder.classes_)\n",
    "\n",
    "X_train['ST_Slope'] = label_encoder.fit_transform(X_train['ST_Slope'].values)\n",
    "X_test['ST_Slope'] = label_encoder.transform(X_test['ST_Slope'].values)\n",
    "np.save('classes_stslope.npy', label_encoder.classes_)"
   ]
  },
  {
   "cell_type": "code",
   "execution_count": 13,
   "metadata": {},
   "outputs": [],
   "source": [
    "rs = pickle.load(open(r'rs.pkl', 'rb'))"
   ]
  },
  {
   "cell_type": "code",
   "execution_count": null,
   "metadata": {},
   "outputs": [],
   "source": [
    "X_train = pd.DataFrame(rs.fit_transform(X_train), columns = X_train.columns)\n",
    "X_test = pd.DataFrame(rs.transform(X_test), columns = X_test.columns)"
   ]
  },
  {
   "cell_type": "code",
   "execution_count": null,
   "metadata": {},
   "outputs": [],
   "source": [
    "X_train"
   ]
  },
  {
   "cell_type": "code",
   "execution_count": null,
   "metadata": {},
   "outputs": [],
   "source": []
  },
  {
   "cell_type": "code",
   "execution_count": null,
   "metadata": {},
   "outputs": [],
   "source": [
    "svm_model = pickle.load(open(r\"svcHeart.sav\", 'rb'))\n",
    "pred = svm_model.predict(X_test)\n",
    "score = metrics.accuracy_score(pred, y_test) "
   ]
  },
  {
   "cell_type": "code",
   "execution_count": null,
   "metadata": {},
   "outputs": [],
   "source": [
    "score"
   ]
  },
  {
   "cell_type": "code",
   "execution_count": null,
   "metadata": {},
   "outputs": [],
   "source": [
    "# pred_trial = svm_model.predict(rs.transform([[20,1,120,175,0,1,120,0,0,0,1,0,0,0,0,1]]))\n",
    "# pred_trial"
   ]
  },
  {
   "cell_type": "code",
   "execution_count": null,
   "metadata": {},
   "outputs": [],
   "source": [
    "# p = rs.([[20,1,120,175,0,1,120,0,0,0,1,0,0,0,0,1]])"
   ]
  },
  {
   "cell_type": "code",
   "execution_count": null,
   "metadata": {},
   "outputs": [],
   "source": []
  },
  {
   "cell_type": "code",
   "execution_count": null,
   "metadata": {},
   "outputs": [],
   "source": [
    "# pred"
   ]
  },
  {
   "cell_type": "code",
   "execution_count": null,
   "metadata": {},
   "outputs": [],
   "source": [
    "# X_test.head(6)"
   ]
  },
  {
   "cell_type": "code",
   "execution_count": null,
   "metadata": {},
   "outputs": [],
   "source": []
  },
  {
   "cell_type": "code",
   "execution_count": null,
   "metadata": {},
   "outputs": [],
   "source": []
  }
 ],
 "metadata": {
  "kernelspec": {
   "display_name": "Python 3",
   "language": "python",
   "name": "python3"
  },
  "language_info": {
   "codemirror_mode": {
    "name": "ipython",
    "version": 3
   },
   "file_extension": ".py",
   "mimetype": "text/x-python",
   "name": "python",
   "nbconvert_exporter": "python",
   "pygments_lexer": "ipython3",
   "version": "3.7.4"
  }
 },
 "nbformat": 4,
 "nbformat_minor": 2
}
